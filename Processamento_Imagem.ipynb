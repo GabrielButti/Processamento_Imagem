{
  "nbformat": 4,
  "nbformat_minor": 0,
  "metadata": {
    "colab": {
      "provenance": [],
      "authorship_tag": "ABX9TyOIw7Zb5USChFsxwhuzna1k",
      "include_colab_link": true
    },
    "kernelspec": {
      "name": "python3",
      "display_name": "Python 3"
    },
    "language_info": {
      "name": "python"
    }
  },
  "cells": [
    {
      "cell_type": "markdown",
      "metadata": {
        "id": "view-in-github",
        "colab_type": "text"
      },
      "source": [
        "<a href=\"https://colab.research.google.com/github/GabrielButti/Processamento_Imagem/blob/main/Processamento_Imagem.ipynb\" target=\"_parent\"><img src=\"https://colab.research.google.com/assets/colab-badge.svg\" alt=\"Open In Colab\"/></a>"
      ]
    },
    {
      "cell_type": "code",
      "execution_count": null,
      "metadata": {
        "id": "OIa-_AdxyYOU"
      },
      "outputs": [],
      "source": [
        "from setuptools import setup, find_packages\n",
        "\n",
        "with open(\"README.md\", \"r\") as f:\n",
        "    page_description = f.read()\n",
        "\n",
        "with open(\"requirements.txt\") as f:\n",
        "    requirements = f.read().splitlines()\n",
        "\n",
        "setup(\n",
        "    name=\"package_name\",\n",
        "    version=\"0.0.1\",\n",
        "    author=\"my_name\",\n",
        "    author_email=\"my_email\",\n",
        "    description=\"My short description\",\n",
        "    long_description=page_description,\n",
        "    long_description_content_type=\"text/markdown\",\n",
        "    url=\"my_github_repository_project_link\"\n",
        "    packages=find_packages(),\n",
        "    install_requires=requirements,\n",
        "    python_requires='>=3.8',\n",
        ")"
      ]
    }
  ]
}